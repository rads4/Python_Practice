{
 "cells": [
  {
   "cell_type": "code",
   "execution_count": 3,
   "id": "92c47111",
   "metadata": {},
   "outputs": [
    {
     "name": "stdout",
     "output_type": "stream",
     "text": [
      "Hello, Radhika\n"
     ]
    }
   ],
   "source": [
    "name = \"Radhika\"\n",
    "print(f\"Hello,\" , name)"
   ]
  },
  {
   "cell_type": "code",
   "execution_count": 4,
   "id": "19a45f08",
   "metadata": {},
   "outputs": [
    {
     "name": "stdout",
     "output_type": "stream",
     "text": [
      "Numpy array: [ 4  8 12 16 20]\n",
      "Numpy array: [ 4  6  8 10 12]\n"
     ]
    }
   ],
   "source": [
    "import numpy as np\n",
    "arr = np.array([2,4,6,8,10])\n",
    "print(\"Numpy array:\", arr*2)\n",
    "print(\"Numpy array:\", arr+2)"
   ]
  },
  {
   "cell_type": "code",
   "execution_count": 7,
   "id": "895bd13c",
   "metadata": {},
   "outputs": [
    {
     "name": "stdout",
     "output_type": "stream",
     "text": [
      "Pandas DataFrame:\n",
      "       Name  Age\n",
      "0   Taylor   33\n",
      "1  Sabrina   28\n",
      "2     Lana   35\n",
      "Pandas DataFrame:\n",
      " 0     Taylor\n",
      "1    Sabrina\n",
      "2       Lana\n",
      "Name: Name, dtype: object\n",
      "Pandas DataFrame:\n",
      " 0    33\n",
      "1    28\n",
      "2    35\n",
      "Name: Age, dtype: int64\n"
     ]
    }
   ],
   "source": [
    "import pandas as pd\n",
    "info = {'Name': ['Taylor', 'Sabrina', 'Lana']\n",
    "        , 'Age': [33, 28, 35]}\n",
    "df = pd.DataFrame(info)\n",
    "print(\"Pandas DataFrame:\\n\", df)\n",
    "print(\"Pandas DataFrame:\\n\", df['Name'])\n",
    "print(\"Pandas DataFrame:\\n\", df['Age'])"
   ]
  }
 ],
 "metadata": {
  "kernelspec": {
   "display_name": "base",
   "language": "python",
   "name": "python3"
  },
  "language_info": {
   "codemirror_mode": {
    "name": "ipython",
    "version": 3
   },
   "file_extension": ".py",
   "mimetype": "text/x-python",
   "name": "python",
   "nbconvert_exporter": "python",
   "pygments_lexer": "ipython3",
   "version": "3.12.7"
  }
 },
 "nbformat": 4,
 "nbformat_minor": 5
}
